{
  "nbformat": 4,
  "nbformat_minor": 0,
  "metadata": {
    "colab": {
      "provenance": [],
      "collapsed_sections": [
        "jFyMJt1oP50g"
      ],
      "include_colab_link": true
    },
    "kernelspec": {
      "name": "python3",
      "display_name": "Python 3"
    },
    "language_info": {
      "name": "python"
    }
  },
  "cells": [
    {
      "cell_type": "markdown",
      "metadata": {
        "id": "view-in-github",
        "colab_type": "text"
      },
      "source": [
        "<a href=\"https://colab.research.google.com/github/sergio-naito/Script-de-desenvolvimento-CDPRO/blob/main/Script_de_Desenvolvimento_CDPRO.ipynb\" target=\"_parent\"><img src=\"https://colab.research.google.com/assets/colab-badge.svg\" alt=\"Open In Colab\"/></a>"
      ]
    },
    {
      "cell_type": "markdown",
      "metadata": {
        "id": "9xtrXghHknMy"
      },
      "source": [
        "# ![](https://cienciadosdados.com/images/2023/08/live_1.png)\n",
        "![]()"
      ]
    },
    {
      "cell_type": "markdown",
      "source": [
        "## <font color = blue> **Contexto do Projeto**\n",
        "\n"
      ],
      "metadata": {
        "id": "JCkHPFHZuqGz"
      }
    },
    {
      "cell_type": "markdown",
      "source": [
        "A empresa enfrenta desafios em lidar com um alto volume de consultas de suporte ao cliente, resultando em tempos de resposta lentos e sobrecarga da equipe de suporte. A necessidade de fornecer assistência rápida e eficaz aos clientes é fundamental para manter a satisfação e fidelidade do cliente. No entanto, a alocação de recursos humanos para responder a consultas frequentes e repetitivas está consumindo tempo e recursos valiosos da equipe de suporte."
      ],
      "metadata": {
        "id": "HQAOCbjhyuhG"
      }
    },
    {
      "cell_type": "markdown",
      "source": [
        "### ![](https://miro.medium.com/v2/resize:fit:1358/1*iGdFJTHMIG79N2HChWaooQ.gif)"
      ],
      "metadata": {
        "id": "jFyMJt1oP50g"
      }
    },
    {
      "cell_type": "code",
      "source": [
        "from IPython.display import Image, display\n",
        "\n",
        "url_da_imagem = 'https://cienciadosdados.com/images/2023/08/chat.png'\n",
        "display(Image(url=url_da_imagem, width=500, height=300))  # Ajuste os valores de width e height conforme necessário\n"
      ],
      "metadata": {
        "colab": {
          "base_uri": "https://localhost:8080/",
          "height": 321
        },
        "id": "oSskicCD4yEu",
        "outputId": "2897cf34-d37c-4e98-aec5-6a926c46c48e"
      },
      "execution_count": null,
      "outputs": [
        {
          "output_type": "display_data",
          "data": {
            "text/html": [
              "<img src=\"https://cienciadosdados.com/images/2023/08/chat.png\" width=\"500\" height=\"300\"/>"
            ],
            "text/plain": [
              "<IPython.core.display.Image object>"
            ]
          },
          "metadata": {}
        }
      ]
    },
    {
      "cell_type": "markdown",
      "source": [
        "# 1° Problema de Negócio"
      ],
      "metadata": {
        "id": "6duRerRjySHd"
      }
    },
    {
      "cell_type": "markdown",
      "source": [
        " **Melhorar a Eficiência e Escalabilidade do Suporte ao Cliente através de um Chatbot de IA.**\n",
        "\n",
        "Implementar um **chatbot de IA** para fornecer suporte ao cliente automatizado. O chatbot pode ser treinado para compreender e responder a uma variedade de perguntas frequentes, solucionar problemas comuns e direcionar consultas mais complexas para atendentes humanos. Isso permitirá que os clientes recebam respostas instantâneas para suas dúvidas e problemas, reduzindo os tempos de espera e melhorando a experiência do cliente.\n"
      ],
      "metadata": {
        "id": "dSh-HF7zy14U"
      }
    },
    {
      "cell_type": "markdown",
      "source": [
        "#2° Análise de Dados"
      ],
      "metadata": {
        "id": "Y6toN_iyyWmo"
      }
    },
    {
      "cell_type": "markdown",
      "source": [
        "=== Massa de dados que são uteis para dar o suporte para a empresa. Pode ser um Manual da Ferramenta ou serviço"
      ],
      "metadata": {
        "id": "ERhCmVCv0rWR"
      }
    },
    {
      "cell_type": "markdown",
      "source": [
        "=== Construção dos Prompts das Regras de Negócio que o Bot deve seguir."
      ],
      "metadata": {
        "id": "jg-nc84X1CjO"
      }
    },
    {
      "cell_type": "markdown",
      "source": [
        "#3° Processamento de Dados"
      ],
      "metadata": {
        "id": "7oFILeDAyWpV"
      }
    },
    {
      "cell_type": "markdown",
      "source": [
        "#### Vamos Preparar o Ambiente para Criar nossa Aplicação (CHATBOT IA)"
      ],
      "metadata": {
        "id": "P3eg90sl18Q-"
      }
    },
    {
      "cell_type": "markdown",
      "source": [
        "a. **Download do Python**\n",
        "\n",
        "https://www.python.org/downloads/\n",
        "\n"
      ],
      "metadata": {
        "id": "9V5gQ4j82N1t"
      }
    },
    {
      "cell_type": "markdown",
      "source": [
        "b. **Download da IDE VSCODE**\n",
        "\n",
        "https://code.visualstudio.com/download"
      ],
      "metadata": {
        "id": "froM8ofJ25-1"
      }
    },
    {
      "cell_type": "markdown",
      "source": [
        "c. **Criação do Ambiente Virtual**\n",
        "\n",
        "  **Comandos:**\n",
        "\n",
        "  python -m venv chatbot\n",
        "\n",
        "  chatbot\\Scripts\\activate"
      ],
      "metadata": {
        "id": "LUoTLh2O2hTu"
      }
    },
    {
      "cell_type": "markdown",
      "source": [
        "d. **Instalação dos pacotes python necessários**\n",
        "\n",
        "**Comandos:**\n",
        "\n",
        "pip install -r requirements.txt"
      ],
      "metadata": {
        "id": "pQEB3DL02mBO"
      }
    },
    {
      "cell_type": "markdown",
      "source": [
        "#4° Máquinas Preditivas com IA / Machine Learning"
      ],
      "metadata": {
        "id": "CYfpzjIwyex2"
      }
    },
    {
      "cell_type": "markdown",
      "source": [
        "=== Construção Treinamento e Validação da Máquina Preditiva. **Usaremos uma IA Pré-Treinada**"
      ],
      "metadata": {
        "id": "BRu2JsYA1O1-"
      }
    },
    {
      "cell_type": "markdown",
      "source": [
        "**Comandos:**\n",
        "\n",
        "streamlit run app.py"
      ],
      "metadata": {
        "id": "rnuIswWU32tV"
      }
    },
    {
      "cell_type": "markdown",
      "source": [
        "#5° Implementação ou Deploy"
      ],
      "metadata": {
        "id": "ghIlbxe7yWtK"
      }
    },
    {
      "cell_type": "markdown",
      "source": [
        "=== Criação e Teste do Chatbot IA"
      ],
      "metadata": {
        "id": "Pdr9UV2a1bLS"
      }
    },
    {
      "cell_type": "markdown",
      "source": [
        "![](https://cdn.dribbble.com/users/872089/screenshots/9072270/media/3775e8583baca184fdaadff7f762adf3.gif)"
      ],
      "metadata": {
        "id": "XNeE-_luQQfk"
      }
    },
    {
      "cell_type": "code",
      "source": [],
      "metadata": {
        "id": "XagRwBIhQRJv"
      },
      "execution_count": null,
      "outputs": []
    }
  ]
}